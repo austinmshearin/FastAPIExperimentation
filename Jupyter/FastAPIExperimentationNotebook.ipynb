{
 "cells": [
  {
   "cell_type": "code",
   "execution_count": null,
   "id": "f07cba47-48dc-429f-a6e1-65fbc5ebaab4",
   "metadata": {},
   "outputs": [],
   "source": [
    "# Standard Imports\n",
    "import requests"
   ]
  },
  {
   "cell_type": "code",
   "execution_count": null,
   "id": "fc7f37b4-717a-4f40-9b36-4cdc48e8b3ef",
   "metadata": {},
   "outputs": [],
   "source": [
    "# Performing a get to the API\n",
    "url = \"http://localhost\"\n",
    "response = requests.get(url)\n",
    "print(\"Status code:\", response.status_code)\n",
    "print(\"Headers:\", response.headers)\n",
    "print(\"Content:\", response.text)"
   ]
  },
  {
   "cell_type": "code",
   "execution_count": null,
   "id": "09ffce3b-23ec-46b4-ba4e-983239c6b50f",
   "metadata": {},
   "outputs": [],
   "source": [
    "# Performing a query with parameter in the url on the API\n",
    "url = \"http://localhost/2\"\n",
    "response = requests.get(url)\n",
    "print(\"Status code:\", response.status_code)\n",
    "print(\"Headers:\", response.headers)\n",
    "print(\"Content:\", response.text)"
   ]
  },
  {
   "cell_type": "code",
   "execution_count": null,
   "id": "25980583-ca44-4d6c-b890-a216f0143248",
   "metadata": {},
   "outputs": [],
   "source": [
    "# Performing a query with optional parameters in the url on the API\n",
    "url = \"http://localhost/get/?x=1&y=2\"\n",
    "response = requests.get(url)\n",
    "print(\"Status code:\", response.status_code)\n",
    "print(\"Headers:\", response.headers)\n",
    "print(\"Content:\", response.text)"
   ]
  },
  {
   "cell_type": "code",
   "execution_count": null,
   "id": "869cc050-1211-474b-859b-ed76cfdbea70",
   "metadata": {},
   "outputs": [],
   "source": [
    "# Posting data to the API\n",
    "url = \"http://localhost/items/\"\n",
    "data = {\"name\": \"text\", \"price\": 2.40}\n",
    "response = requests.post(url, json=data)\n",
    "print(\"Status code:\", response.status_code)\n",
    "print(\"Headers:\", response.headers)\n",
    "print(\"Content:\", response.text)"
   ]
  },
  {
   "cell_type": "code",
   "execution_count": null,
   "id": "efa9fbac-81c2-4c72-b04c-5bd4a964ad79",
   "metadata": {},
   "outputs": [],
   "source": []
  }
 ],
 "metadata": {
  "kernelspec": {
   "display_name": "FastAPIExperimentation_VirEnv",
   "language": "python",
   "name": "fastapiexperimentation_virenv"
  },
  "language_info": {
   "codemirror_mode": {
    "name": "ipython",
    "version": 3
   },
   "file_extension": ".py",
   "mimetype": "text/x-python",
   "name": "python",
   "nbconvert_exporter": "python",
   "pygments_lexer": "ipython3",
   "version": "3.10.2"
  }
 },
 "nbformat": 4,
 "nbformat_minor": 5
}
